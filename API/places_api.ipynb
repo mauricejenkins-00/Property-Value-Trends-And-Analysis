{
 "cells": [
  {
   "cell_type": "code",
   "execution_count": 1,
   "id": "c46681f5-11a1-4b8b-a287-8170c95f5844",
   "metadata": {},
   "outputs": [],
   "source": [
    "# Importing Dependencies\n",
    "\n",
    "import requests\n",
    "import json\n",
    "import pprint\n",
    "import pandas as pd\n",
    "from pandas import json_normalize\n",
    "import time\n",
    "from key import API_KEY"
   ]
  },
  {
   "cell_type": "code",
   "execution_count": 2,
   "id": "c9b82502-f02a-41ad-bbf7-928ae58b7063",
   "metadata": {
    "tags": []
   },
   "outputs": [],
   "source": [
    "# Establishing base variables and utilizing loops to call for data on multiple coordinates and storing that information in a list\n",
    "\n",
    "data = []\n",
    "places_url = f'https://maps.googleapis.com/maps/api/place/nearbysearch/json?&key={API_KEY}'\n",
    "\n",
    "coords = [\"41.927826, -87.652016\", \"40.38, -75.77\", \"40.6239, -75.3937\", \"40.1769, -75.1020\", \"39.9683, -75.1750\", \"40.4737, -79.9612\"]\n",
    "keywords = [\"food\", \"establishments\", \"bars\", \"meal_takeaway\", \"point_of_interest\", \"establishment\", \"resturant\", \"cafe\"]\n",
    "\n",
    "for i in coords:\n",
    "    params = {\n",
    "            \"location\": i,\n",
    "            \"radius\": 50000,\n",
    "            \"keyword\": keywords\n",
    "    }\n",
    "\n",
    "    response = requests.get(places_url, params=params).json()\n",
    "    next_page_token =  response['next_page_token']\n",
    "\n",
    "    page = 1\n",
    "    \n",
    "    # Creating a nested while loop to repedietely utilize the next page token found in the json to gather more data entries with a limit of < 10 pages\n",
    "    while page < 10:\n",
    "        print(f'Appending page {page}')\n",
    "        page +=1\n",
    "        params = {\n",
    "           \"location\": i,\n",
    "           \"radius\": ,\n",
    "           \"keyword\": keywords,\n",
    "           \"pagetoken\": next_page_token\n",
    "        }\n",
    "\n",
    "        time.sleep(2)\n",
    "\n",
    "        response = requests.get(places_url, params=params).json()\n",
    "        data.append(response)"
   ]
  },
  {
   "cell_type": "code",
   "execution_count": 6,
   "id": "ccf6b948-10ba-491e-a9fb-f0bfe44f1ac4",
   "metadata": {},
   "outputs": [],
   "source": [
    "# Taking json data from data variable and storing each page of json in corresponding lists #\n",
    "\n",
    "chicago_data = []\n",
    "chicago_data.append(data[0:9])\n",
    "#------------------------------------------------------------------------------------------#\n",
    "oley_data = []\n",
    "oley_data.append(data[10:19])\n",
    "#------------------------------------------------------------------------------------------#\n",
    "beth_data = []\n",
    "beth_data.append(data[20:29])\n",
    "#------------------------------------------------------------------------------------------#\n",
    "horsham_data = []\n",
    "horsham_data.append(data[30:39])\n",
    "#------------------------------------------------------------------------------------------#\n",
    "north_philly_data = []\n",
    "north_philly_data.append(data[40:49])\n",
    "#------------------------------------------------------------------------------------------#\n",
    "pitts_data = []\n",
    "pitts_data.append(data[50:59])"
   ]
  },
  {
   "cell_type": "code",
   "execution_count": 18,
   "id": "81bfa2a2-5c26-4222-af54-9e7a2db5e428",
   "metadata": {
    "tags": []
   },
   "outputs": [],
   "source": [
    "# Taking the lists and utilizing the json_normalize function to convert each json page into a dataframe\n",
    "\n",
    "chicago_df = pd.json_normalize(chicago_data[0], record_path=[\"results\"])\n",
    "chicago_df = chicago_df[[\"name\", \"business_status\", \"rating\", \"price_level\", \"types\", \"vicinity\"]]\n",
    "#chicago_df\n",
    "#------------------------------------------------------------------------------------------#\n",
    "oley_df = pd.json_normalize(oley_data[0], record_path=[\"results\"])\n",
    "oley_df = oley_df[[\"name\", \"business_status\", \"rating\", \"price_level\", \"types\", \"vicinity\"]]\n",
    "#oley_df\n",
    "#------------------------------------------------------------------------------------------#\n",
    "beth_df = pd.json_normalize(beth_data[0], record_path=[\"results\"])\n",
    "beth_df = beth_df[[\"name\", \"business_status\", \"rating\", \"price_level\", \"types\", \"vicinity\"]]\n",
    "#beth_df\n",
    "#------------------------------------------------------------------------------------------#\n",
    "horsham_df = pd.json_normalize(horsham_data[0], record_path=[\"results\"])\n",
    "horsham_df = horsham_df[[\"name\", \"business_status\", \"rating\", \"price_level\", \"types\", \"vicinity\"]]\n",
    "#horsham_df\n",
    "#------------------------------------------------------------------------------------------#\n",
    "north_philly_df = pd.json_normalize(north_philly_data[0], record_path=[\"results\"])\n",
    "north_philly_df = north_philly_df[[\"name\", \"business_status\", \"rating\", \"price_level\", \"types\", \"vicinity\"]]\n",
    "#north_philly_df\n",
    "#------------------------------------------------------------------------------------------#\n",
    "pitts_df = pd.json_normalize(pitts_data[0], record_path=[\"results\"])\n",
    "pitts_df = pitts_df[[\"name\", \"business_status\", \"rating\", \"price_level\", \"types\", \"vicinity\"]]\n",
    "#pitts_df"
   ]
  },
  {
   "cell_type": "code",
   "execution_count": 19,
   "id": "35baef0e-3421-4795-b4f0-6efeb2c93e72",
   "metadata": {},
   "outputs": [],
   "source": [
    "# Concatenating all data entries into a single dataframe to prepare for exportation\n",
    "\n",
    "all = [chicago_df, oley_df, beth_df, horsham_df, north_philly_df, pitts_df]\n",
    "all_df = pd.concat(all)"
   ]
  },
  {
   "cell_type": "code",
   "execution_count": 23,
   "id": "4adc1903-d0e7-4cab-8641-b7db223ed3fb",
   "metadata": {},
   "outputs": [],
   "source": [
    "# Exporting dataframe with all entries to a csv file for implementation in Tableau\n",
    "\n",
    "all_df.to_csv(path_or_buf=\"establishment_data\")"
   ]
  }
 ],
 "metadata": {
  "kernelspec": {
   "display_name": "Python 3",
   "language": "python",
   "name": "python3"
  },
  "language_info": {
   "codemirror_mode": {
    "name": "ipython",
    "version": 3
   },
   "file_extension": ".py",
   "mimetype": "text/x-python",
   "name": "python",
   "nbconvert_exporter": "python",
   "pygments_lexer": "ipython3",
   "version": "3.8.8"
  }
 },
 "nbformat": 4,
 "nbformat_minor": 5
}
